{
 "cells": [
  {
   "cell_type": "markdown",
   "id": "3c195bdd",
   "metadata": {},
   "source": [
    "# 1."
   ]
  },
  {
   "cell_type": "code",
   "execution_count": 14,
   "id": "e0d9dae2",
   "metadata": {},
   "outputs": [
    {
     "data": {
      "text/plain": [
       "9"
      ]
     },
     "execution_count": 14,
     "metadata": {},
     "output_type": "execute_result"
    }
   ],
   "source": [
    "# The def statement and lambda expressions are both used to define functions in Python, but they differ in syntax and usage:\n",
    "\n",
    "# a) def Statement:\n",
    "\n",
    "# i) The def statement is used to define a named function.\n",
    "# ii) It starts with the keyword def, followed by the function name and parameters enclosed in parentheses.\n",
    "# iii) The function body is indented and contains the code to be executed when the function is called.\n",
    "# iv) It can contain multiple statements and has a return value specified using the return keyword.\n",
    "\n",
    "# example:\n",
    "def add_numbers(a, b):\n",
    "    return a + b\n",
    "\n",
    "# calling function\n",
    "add_numbers(4,5)"
   ]
  },
  {
   "cell_type": "code",
   "execution_count": 15,
   "id": "1aa4318f",
   "metadata": {},
   "outputs": [],
   "source": [
    "# b) Lambda Expressions:\n",
    "\n",
    "# i) Lambda expressions, also known as anonymous functions, are defined using the lambda keyword.\n",
    "# ii) They are used for creating small, one-line functions without a name.\n",
    "# iii) Lambda functions can take any number of arguments but can only have one expression.\n",
    "# iv) They are often used where a small function is needed for a short period of time, such as in functional programming \n",
    "#  constructs like map(), filter(), and sorted().\n",
    "    \n",
    "# example:\n",
    "add_numbers = lambda a, b: a + b"
   ]
  },
  {
   "cell_type": "markdown",
   "id": "886fb523",
   "metadata": {},
   "source": [
    "# 2."
   ]
  },
  {
   "cell_type": "code",
   "execution_count": 30,
   "id": "9b75f6ca",
   "metadata": {},
   "outputs": [],
   "source": [
    "# Benefits of lambda function:\n",
    "\n",
    "# a) Conciseness: Lambda functions allow you to define functions in a more concise and compact way compared to traditional\n",
    "#     def statements. This can lead to cleaner and more readable code, especially for short and simple operations.\n",
    "\n",
    "# b) Anonymous Functions: Lambda functions are anonymous, meaning they don't require a name. This is useful when you need\n",
    "#     a function for a short period of time or for a specific purpose without cluttering the code with named functions.\n",
    "\n",
    "# c) Functional Programming: Lambda functions are often used in functional programming paradigms. They can be passed as \n",
    "#     arguments to other functions (map(), filter(), sorted(), etc.) or used in list comprehensions, allowing for more \n",
    "#     expressive and functional-style programming.\n",
    "\n",
    "# d) Clarity: In some cases, using a lambda function can make code more clear and self-explanatory, especially when the \n",
    "#     function's purpose is straightforward and evident from its definition.\n",
    "\n",
    "# e) Readability: While lambda functions can make code concise, they should be used judiciously to maintain readability. \n",
    "#     In certain situations, a well-named def function might be more readable and maintainable than a complex lambda expression."
   ]
  },
  {
   "cell_type": "markdown",
   "id": "ce3853ea",
   "metadata": {},
   "source": [
    "# 3."
   ]
  },
  {
   "cell_type": "code",
   "execution_count": 17,
   "id": "408d6644",
   "metadata": {},
   "outputs": [
    {
     "name": "stdout",
     "output_type": "stream",
     "text": [
      "[1, 4, 9, 16, 25]\n"
     ]
    }
   ],
   "source": [
    "# a) map:\n",
    "\n",
    "# i) Purpose: map applies a specified function to each item in an iterable and returns an iterator with the results.\n",
    "# ii) Syntax: map(function, iterable)\n",
    "# example:\n",
    "nums = [1, 2, 3, 4, 5]\n",
    "squared_nums = map(lambda x: x**2, nums)\n",
    "print(list(squared_nums))  # Output: [1, 4, 9, 16, 25]"
   ]
  },
  {
   "cell_type": "code",
   "execution_count": 18,
   "id": "5f40f975",
   "metadata": {},
   "outputs": [
    {
     "name": "stdout",
     "output_type": "stream",
     "text": [
      "[2, 4]\n"
     ]
    }
   ],
   "source": [
    "# b) filter:\n",
    "\n",
    "# i) Purpose: filter applies a function to each item in an iterable and returns an iterator containing only the items for which the function returns True.\n",
    "# ii) Syntax: filter(function, iterable)\n",
    "# example:\n",
    "nums = [1, 2, 3, 4, 5]\n",
    "even_nums = filter(lambda x: x % 2 == 0, nums)\n",
    "print(list(even_nums))  # Output: [2, 4]"
   ]
  },
  {
   "cell_type": "code",
   "execution_count": 19,
   "id": "a8f25fbc",
   "metadata": {},
   "outputs": [
    {
     "name": "stdout",
     "output_type": "stream",
     "text": [
      "120\n"
     ]
    }
   ],
   "source": [
    "# c) reduce:\n",
    "\n",
    "# i) Purpose: reduce applies a function cumulatively to the items of an iterable, from left to right, to reduce the iterable to a single value.\n",
    "# ii) Syntax: functools.reduce(function, iterable[, initializer]) (Requires from functools import reduce)\n",
    "# example:\n",
    "from functools import reduce\n",
    "nums = [1, 2, 3, 4, 5]\n",
    "product = reduce(lambda x, y: x * y, nums)\n",
    "print(product)  # Output: 120 (1 * 2 * 3 * 4 * 5)"
   ]
  },
  {
   "cell_type": "markdown",
   "id": "4d540ac2",
   "metadata": {},
   "source": [
    "# 4."
   ]
  },
  {
   "cell_type": "code",
   "execution_count": 23,
   "id": "1456caff",
   "metadata": {},
   "outputs": [
    {
     "data": {
      "text/plain": [
       "7"
      ]
     },
     "execution_count": 23,
     "metadata": {},
     "output_type": "execute_result"
    }
   ],
   "source": [
    "# Function annotations in Python are a way to attach metadata, such as data types or additional information, to the parameters\n",
    "# and return value of a function. They are defined using a colon after the parameter or return value name, followed by the\n",
    "#  annotation expression.\n",
    "\n",
    "# example:\n",
    "def add_numbers(a: int, b: int) -> int:\n",
    "    return a + b\n",
    "\n",
    "add_numbers(2,5)"
   ]
  },
  {
   "cell_type": "markdown",
   "id": "6051d255",
   "metadata": {},
   "source": [
    "# 5."
   ]
  },
  {
   "cell_type": "code",
   "execution_count": 25,
   "id": "bd64fa87",
   "metadata": {},
   "outputs": [
    {
     "data": {
      "text/plain": [
       "120"
      ]
     },
     "execution_count": 25,
     "metadata": {},
     "output_type": "execute_result"
    }
   ],
   "source": [
    "# Recursive functions are functions that call themselves within their definition. They are used to solve problems that can \n",
    "#  be broken down into smaller, similar sub-problems, where the solution to the larger problem depends on the solutions\n",
    "#  to the smaller sub-problems.\n",
    "\n",
    "# example:\n",
    "def factorial(n):\n",
    "    if n == 0:\n",
    "        return 1\n",
    "    else:\n",
    "        return n * factorial(n - 1)\n",
    "    \n",
    "factorial(5)"
   ]
  },
  {
   "cell_type": "markdown",
   "id": "4e5a925f",
   "metadata": {},
   "source": [
    "# 6."
   ]
  },
  {
   "cell_type": "code",
   "execution_count": 26,
   "id": "aa1fa5a2",
   "metadata": {},
   "outputs": [],
   "source": [
    "# a) Function Name: Choose descriptive and meaningful names for functions that indicate their purpose or what they do. \n",
    "#     Use lowercase letters and underscores to separate words (e.g., calculate_area).\n",
    "\n",
    "# b) Default Arguments: Use default argument values judiciously, especially for optional parameters. Default arguments can \n",
    "#     enhance a function's flexibility but avoid excessive complexity by having too many of them.\n",
    "\n",
    "# c) Return Values: Have functions return a value or None if they perform a computation or operation. Be consistent with \n",
    "#     return types and clearly document what the function returns.\n",
    "\n",
    "# d) Documentation: Provide clear and concise documentation for each function using docstrings. Describe the purpose of the function,\n",
    "#     its arguments, return values, and any exceptions it may raise. Follow PEP 257 for docstring conventions.\n",
    "\n",
    "# e) Error Handling: Include appropriate error handling mechanisms, such as try-except blocks or raising custom exceptions,\n",
    "#     to handle exceptional conditions gracefully and provide informative error messages.\n",
    "\n",
    "# f) Readability: Write readable code by following consistent formatting and style guidelines. Use meaningful variable names,\n",
    "#     proper indentation, and adhere to PEP 8 guidelines for Python code.\n",
    "\n",
    "# g) Modularity: Encapsulate related functions into modules or classes to promote code reusability and maintainability.\n",
    "#     Use modules to organize and group functions based on functionality.\n",
    "\n",
    "# h) Performance: Consider performance implications while designing functions, especially for critical code paths. \n",
    "#     Use appropriate data structures and algorithms to optimize performance when necessary."
   ]
  },
  {
   "cell_type": "markdown",
   "id": "9898b4dc",
   "metadata": {},
   "source": [
    "# 7."
   ]
  },
  {
   "cell_type": "code",
   "execution_count": 27,
   "id": "68363a3d",
   "metadata": {},
   "outputs": [
    {
     "name": "stdout",
     "output_type": "stream",
     "text": [
      "30\n"
     ]
    }
   ],
   "source": [
    "# Functions can communicate results to a caller in several ways:\n",
    "\n",
    "# a) Return Values: Functions can use the return statement to send back a result or value to the caller. The caller can \n",
    "#  capture and use this returned value in the program.\n",
    "    \n",
    "# example:\n",
    "def add_numbers(a, b):\n",
    "    return a + b\n",
    "\n",
    "result = add_numbers(10, 20)\n",
    "print(result)  # Output: 30"
   ]
  },
  {
   "cell_type": "code",
   "execution_count": 28,
   "id": "a680f865",
   "metadata": {},
   "outputs": [
    {
     "name": "stdout",
     "output_type": "stream",
     "text": [
      "1\n"
     ]
    }
   ],
   "source": [
    "# b) Global Variables: Functions can modify or update global variables, allowing them to communicate information indirectly. \n",
    "#   However, using global variables for communication is generally discouraged as it can lead to side effects and \n",
    "#   make code less modular and maintainable.\n",
    "    \n",
    "# example:\n",
    "global_var = 0\n",
    "\n",
    "def update_global():\n",
    "    global global_var\n",
    "    global_var += 1\n",
    "\n",
    "update_global()\n",
    "print(global_var)  # Output: 1"
   ]
  },
  {
   "cell_type": "code",
   "execution_count": 29,
   "id": "c08f2821",
   "metadata": {},
   "outputs": [
    {
     "name": "stdout",
     "output_type": "stream",
     "text": [
      "[1, 2, 3, 4]\n"
     ]
    }
   ],
   "source": [
    "# c) Using Mutable Objects: Functions can modify mutable objects (like lists, dictionaries, or objects) passed as arguments. \n",
    "#     Changes made to mutable objects within the function are reflected outside the function scope, allowing communication \n",
    "#     of results.\n",
    "    \n",
    "# example:\n",
    "def append_value(lst, value):\n",
    "    lst.append(value)\n",
    "\n",
    "my_list = [1, 2, 3]\n",
    "append_value(my_list, 4)\n",
    "print(my_list)  # Output: [1, 2, 3, 4]"
   ]
  },
  {
   "cell_type": "code",
   "execution_count": null,
   "id": "dd580449",
   "metadata": {},
   "outputs": [],
   "source": []
  }
 ],
 "metadata": {
  "kernelspec": {
   "display_name": "Python 3 (ipykernel)",
   "language": "python",
   "name": "python3"
  },
  "language_info": {
   "codemirror_mode": {
    "name": "ipython",
    "version": 3
   },
   "file_extension": ".py",
   "mimetype": "text/x-python",
   "name": "python",
   "nbconvert_exporter": "python",
   "pygments_lexer": "ipython3",
   "version": "3.11.5"
  }
 },
 "nbformat": 4,
 "nbformat_minor": 5
}
